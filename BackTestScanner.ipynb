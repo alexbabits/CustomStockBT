{
 "cells": [
  {
   "cell_type": "code",
   "execution_count": null,
   "metadata": {},
   "outputs": [],
   "source": [
    "!pip install yfinance\n",
    "!pip install finta\n",
    "!pip install pandas\n",
    "from finta import TA\n",
    "import pandas as pd\n",
    "import yfinance as yf\n",
    "import glob"
   ]
  },
  {
   "cell_type": "code",
   "execution_count": null,
   "metadata": {},
   "outputs": [],
   "source": [
    "def download_stock_price_data(folder='', years=5):\n",
    "  tickers = pd.read_csv('https://pkgstore.datahub.io/core/nyse-other-listings/nyse-listed_csv/data/3c88fab8ec158c3cd55145243fe5fcdf/nyse-listed_csv.csv')\n",
    "  symbols = tickers['ACT Symbol'].unique()\n",
    "  for s in symbols[0:20]:\n",
    "    try:\n",
    "      df = yf.download([s], auto_adjust=True, period=f'{str(years)}y')\n",
    "      if len(df) > 100:\n",
    "        df.columns = df.columns.str.lower()\n",
    "        df.index = df.index.rename('datetime')\n",
    "        df.to_csv(f'{folder}{s}.csv')\n",
    "    except Exception as e:\n",
    "      print(f'error with {s}')\n",
    "      print(repr(e))\n",
    "      continue\n",
    "download_stock_price_data()"
   ]
  },
  {
   "cell_type": "code",
   "execution_count": 18,
   "metadata": {},
   "outputs": [],
   "source": [
    "def find_entries(df:pd.DataFrame) -> pd.DataFrame:\n",
    "  df['EMA200'] = TA.EMA(df, period=200)\n",
    "  df['EMA50'] = TA.EMA(df, period=50)\n",
    "  df['ATR'] = TA.ATR(df)\n",
    "  c1 = df.close > df.EMA200\n",
    "  c2 = (df.low < df.EMA50) & (df.close > df.EMA50) & (df.open > df.EMA50)\n",
    "  long_entry_condition = (c1) & (c2)\n",
    "  df['entry'] = df.shift(-1).open\n",
    "  df['target'] = 0.0\n",
    "  df['stop'] = 0.0\n",
    "  df['risk:reward'] = 0.0\n",
    "  df['target_pct'] = 0.0\n",
    "  df['stop_pct'] = 0.0\n",
    "  df['target_profit'] = 150\n",
    "  df['position_size'] = 0.0\n",
    "  df.loc[long_entry_condition, 'target'] = df.entry + (1.5*df.ATR)\n",
    "  df.loc[long_entry_condition, 'stop'] = df.entry - df.ATR\n",
    "  df.loc[long_entry_condition, 'risk:reward'] = (df.target - df.entry) / (df.entry - df.stop)\n",
    "  df.loc[long_entry_condition, 'target_pct'] = (df.target - df.entry) / (df.entry)\n",
    "  df.loc[long_entry_condition, 'stop_pct'] = -(df.entry - df.stop) / (df.entry)\n",
    "  df.loc[long_entry_condition, 'position_size'] = df.target_profit / df.target_pct\n",
    "  entries = df.loc[long_entry_condition][['entry', 'target', 'stop', 'risk:reward', 'target_pct', 'stop_pct', 'target_profit', 'position_size']].copy()\n",
    "  return entries"
   ]
  },
  {
   "cell_type": "code",
   "execution_count": 20,
   "metadata": {},
   "outputs": [
    {
     "data": {
      "text/plain": [
       "['A.csv',\n",
       " 'AA.csv',\n",
       " 'AAC.csv',\n",
       " 'AAN.csv',\n",
       " 'AAP.csv',\n",
       " 'AAT.csv',\n",
       " 'AB.csv',\n",
       " 'ABB.csv',\n",
       " 'ABBV.csv',\n",
       " 'ABC.csv',\n",
       " 'ABEV.csv',\n",
       " 'ABG.csv',\n",
       " 'ABM.csv',\n",
       " 'ABR.csv']"
      ]
     },
     "execution_count": 20,
     "metadata": {},
     "output_type": "execute_result"
    }
   ],
   "source": [
    "filepaths = []\n",
    "trade_entries_dict = {}\n",
    "for file in glob.glob('*.csv'):\n",
    "  filepaths.append(file)\n",
    "filepaths"
   ]
  },
  {
   "cell_type": "code",
   "execution_count": null,
   "metadata": {},
   "outputs": [],
   "source": [
    "for path in filepaths:\n",
    "  symbol = path.split('.')[0]\n",
    "  df = pd.read_csv(path, index_col='datetime')\n",
    "  entry_df = find_entries(df)\n",
    "  trade_entries_dict[symbol] = entry_df\n",
    "trade_entries_dict"
   ]
  }
 ],
 "metadata": {
  "kernelspec": {
   "display_name": "Python 3",
   "language": "python",
   "name": "python3"
  },
  "language_info": {
   "codemirror_mode": {
    "name": "ipython",
    "version": 3
   },
   "file_extension": ".py",
   "mimetype": "text/x-python",
   "name": "python",
   "nbconvert_exporter": "python",
   "pygments_lexer": "ipython3",
   "version": "3.10.10"
  },
  "orig_nbformat": 4
 },
 "nbformat": 4,
 "nbformat_minor": 2
}
