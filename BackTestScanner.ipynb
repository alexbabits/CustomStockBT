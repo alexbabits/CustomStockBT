{
 "cells": [
  {
   "cell_type": "code",
   "execution_count": null,
   "metadata": {},
   "outputs": [],
   "source": [
    "!pip install yfinance\n",
    "!pip install finta\n",
    "from finta import TA\n",
    "import pandas as pd\n",
    "import yfinance as yf\n",
    "import glob\n",
    "import os"
   ]
  },
  {
   "cell_type": "code",
   "execution_count": null,
   "metadata": {},
   "outputs": [],
   "source": [
    "# function with a 'folder' and 'years' argument. Purpose is to download and save price data as .csv and also in a dictionary.\n",
    "def download_stock_price_data_dict(folder='', years=5):\n",
    "\n",
    "  # tickers is a pandas DataFrame object. pd.read_csv function reads csv file from this website which contains all of the stock ticker symbols under it's \"ACT Symbol\" column.\n",
    "  tickers = pd.read_csv('https://pkgstore.datahub.io/core/nyse-other-listings/nyse-listed_csv/data/3c88fab8ec158c3cd55145243fe5fcdf/nyse-listed_csv.csv')\n",
    "  # symbols is a list of symbols we made by taking all the unique symbols from the tickers .csv\n",
    "  symbols = tickers['ACT Symbol'].unique()\n",
    "  # empty dictionary to store all stock price DataFrames.\n",
    "  price_data_dict = {}\n",
    "\n",
    "  # loop where we go through each symbol 's' in the symbols list (first 20), and then do some things.\n",
    "  for s in symbols[0:20]:\n",
    "    try:\n",
    "\n",
    "      # creates the DataFrame 'df' from the downloaded yf price data over the last years. auto_adjust accounts for stock splits and such. Takes in each stock symbol 's' one at at time.\n",
    "      df = yf.download([s], auto_adjust=True, period=f'{str(years)}y')\n",
    "\n",
    "      # If the length of a 'df' is over 100, then go ahead and do the iteration.\n",
    "      if len(df) > 100:\n",
    "        # make the columns lowercase, rename the index to 'datetime', save the df's to our folder, and save the df's to our dictionary.\n",
    "        df.columns = df.columns.str.lower()\n",
    "        df.index = df.index.rename('datetime')\n",
    "        df.to_csv(f'{folder}{s}.csv')\n",
    "        price_data_dict[s] = df\n",
    "\n",
    "    # error catch\n",
    "    except Exception as e:\n",
    "      print(f'error with {s}')\n",
    "      print(repr(e))\n",
    "      continue\n",
    "\n",
    "  # Allows for the 'price_data_dict' dictionary object to be accessed elsewhere in the code as a variable or input in another function.   \n",
    "  return price_data_dict\n",
    "# Download and saves price data to our price data dictionary.\n",
    "price_data_dict = download_stock_price_data_dict()"
   ]
  },
  {
   "cell_type": "code",
   "execution_count": 4,
   "metadata": {},
   "outputs": [],
   "source": [
    "# takes in 'df' the price data as an argument and transforms it to a new DataFrame later called 'entries'.\n",
    "def find_entries(df:pd.DataFrame) -> pd.DataFrame:\n",
    "  # Adding various columns to the original 'df'.\n",
    "  df['EMA200'] = TA.EMA(df, period=200)\n",
    "  df['EMA50'] = TA.EMA(df, period=50)\n",
    "  df['ATR'] = TA.ATR(df)\n",
    "  df['entry'] = df.shift(-1).open\n",
    "  df['target'] = 0.0\n",
    "  df['stop'] = 0.0\n",
    "  df['risk:reward'] = 0.0\n",
    "  df['target_pct'] = 0.0\n",
    "  df['stop_pct'] = 0.0\n",
    "  df['target_profit'] = 150\n",
    "  df['position_size'] = 0.0\n",
    "\n",
    "  # Conditions for long entry based on technical analysis indicators.\n",
    "  c1 = df.close > df.EMA200\n",
    "  c2 = (df.low < df.EMA50) & (df.close > df.EMA50) & (df.open > df.EMA50)\n",
    "  long_entry_condition = (c1) & (c2)\n",
    "\n",
    "  # Accesses and modifies all rows in 'df' where long_entry_condition is true, and modifies the 2nd input '' column in those rows to what is specified.\n",
    "  df.loc[long_entry_condition, 'target'] = df.entry + (1.5*df.ATR)\n",
    "  df.loc[long_entry_condition, 'stop'] = df.entry - df.ATR\n",
    "  df.loc[long_entry_condition, 'risk:reward'] = (df.target - df.entry) / (df.entry - df.stop)\n",
    "  df.loc[long_entry_condition, 'target_pct'] = (df.target - df.entry) / (df.entry)\n",
    "  df.loc[long_entry_condition, 'stop_pct'] = -(df.entry - df.stop) / (df.entry)\n",
    "  df.loc[long_entry_condition, 'position_size'] = df.target_profit / df.target_pct\n",
    "\n",
    "  # Selects the subset of rows where the price data in DataFrame 'df' satisfy the long entry condition, and then creates a copy of the modified DataFrame denoted 'entries'.\n",
    "  entries = df.loc[long_entry_condition][['entry', 'target', 'stop', 'risk:reward', 'target_pct', 'stop_pct', 'target_profit', 'position_size']].copy()\n",
    "\n",
    "  # Allows for the 'entries' DataFrame to be accessed elsewhere in the code as a variable. \n",
    "  return entries"
   ]
  },
  {
   "cell_type": "code",
   "execution_count": 25,
   "metadata": {},
   "outputs": [],
   "source": [
    "# Create empty list and dictionary for future use\n",
    "filepaths = []\n",
    "trade_entries_dict = {}\n",
    "\n",
    "# Uses the 'glob' module to iterate and find all files with .csv, for each file found, the filepath is appended to the filepaths empty list [ ].\n",
    "for file in glob.glob('*.csv'):\n",
    "  filepaths.append(file)\n",
    "\n",
    "# Using a for loop, we iterate through each filepath in 'filepaths' list.\n",
    "for path in filepaths:\n",
    "  # Extracts the file's symbol name by splitting and parsing the path at the first index before the period, and saves it to the symbol variable.\n",
    "  symbol = path.split('.')[0]\n",
    "  # Reads the file into a DataFrame called 'df', with the index set to 'datetime'. The parse_dates makes it so the datetime index column is properly a datetime64[ns] object type.\n",
    "  df = pd.read_csv(path, index_col='datetime', parse_dates=['datetime'])\n",
    "  # Calls the 'find_entries' function on 'df' to generate an entirely new DataFrame called 'entry_df', which has the trade entries for a single symbol.\n",
    "  entry_df = find_entries(df)\n",
    "  # It adds each DataFrame 'entry_df' which was iterated through for every symbol, and adds it to the 'trad_entries_dict' dictionary, with the symbol name as the key, and the value is the entry trade data.\n",
    "  trade_entries_dict[symbol] = entry_df"
   ]
  },
  {
   "cell_type": "code",
   "execution_count": 75,
   "metadata": {},
   "outputs": [],
   "source": [
    "# allows for all rows to be seen if = 'None'. If want less, do = 20.\n",
    "pd.options.display.max_rows = 20"
   ]
  },
  {
   "cell_type": "code",
   "execution_count": null,
   "metadata": {},
   "outputs": [],
   "source": [
    "trade_entries_dict"
   ]
  },
  {
   "cell_type": "code",
   "execution_count": null,
   "metadata": {},
   "outputs": [],
   "source": [
    "price_data_dict"
   ]
  },
  {
   "cell_type": "code",
   "execution_count": 70,
   "metadata": {},
   "outputs": [],
   "source": [
    "# merges the price data and trade entries dictionaries. It's shorthand for creating a new dictionary from existing ones.\n",
    "# for each key 'key' in price_data_dict, it makes new key-value pair in the new dict. Rows are aligned based on their common index.\n",
    "price_and_trades_dict = {key: pd.concat([price_data_dict[key], trade_entries_dict[key]], axis=1) for key in price_data_dict}"
   ]
  },
  {
   "cell_type": "code",
   "execution_count": null,
   "metadata": {},
   "outputs": [],
   "source": [
    "price_and_trades_dict\n",
    "#test"
   ]
  }
 ],
 "metadata": {
  "kernelspec": {
   "display_name": "Python 3",
   "language": "python",
   "name": "python3"
  },
  "language_info": {
   "codemirror_mode": {
    "name": "ipython",
    "version": 3
   },
   "file_extension": ".py",
   "mimetype": "text/x-python",
   "name": "python",
   "nbconvert_exporter": "python",
   "pygments_lexer": "ipython3",
   "version": "3.10.10"
  },
  "orig_nbformat": 4
 },
 "nbformat": 4,
 "nbformat_minor": 2
}
